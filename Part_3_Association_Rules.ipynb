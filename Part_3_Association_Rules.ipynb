{
  "nbformat": 4,
  "nbformat_minor": 0,
  "metadata": {
    "colab": {
      "name": "Part 3_Association_Rules.ipynb",
      "provenance": [],
      "toc_visible": true,
      "authorship_tag": "ABX9TyOMMpEvCQKSAd9zBNd4ZFxw",
      "include_colab_link": true
    },
    "kernelspec": {
      "name": "ir",
      "display_name": "R"
    },
    "language_info": {
      "name": "R"
    }
  },
  "cells": [
    {
      "cell_type": "markdown",
      "metadata": {
        "id": "view-in-github",
        "colab_type": "text"
      },
      "source": [
        "<a href=\"https://colab.research.google.com/github/Audrey-ai/Carrefour-Kenya-Data-Analysis-using-R/blob/main/Part_3_Association_Rules.ipynb\" target=\"_parent\"><img src=\"https://colab.research.google.com/assets/colab-badge.svg\" alt=\"Open In Colab\"/></a>"
      ]
    },
    {
      "cell_type": "markdown",
      "metadata": {
        "id": "-H48bI7WeMP_"
      },
      "source": [
        "#1. Defining the Question"
      ]
    },
    {
      "cell_type": "markdown",
      "metadata": {
        "id": "55jV9sBEeS2N"
      },
      "source": [
        "Working as a data scientist at Carrefour Kenya, the main aim is to undertake a project that will inform the marketing department on the most relevant marketing strategies that will result in the highest no. of sales (total price including tax) by performing various unsupervised learning techniques and later providing recommendations based on your insights.\n",
        "\n",
        "\n",
        "This section of the project will require that you create association rules that will allow you to identify relationships between variables in the dataset and provide insights from the analysis."
      ]
    },
    {
      "cell_type": "markdown",
      "metadata": {
        "id": "b0ji24Wwe6cM"
      },
      "source": [
        "#2. Reading and checking of data"
      ]
    },
    {
      "cell_type": "code",
      "metadata": {
        "colab": {
          "base_uri": "https://localhost:8080/"
        },
        "id": "WcT9rieQfAEL",
        "outputId": "626ccf03-91bc-4c8e-edd4-161d9bbf0706"
      },
      "source": [
        "#Installing the required packages\n",
        "\n",
        "install.packages(\"arules\")\n",
        "library(arules)"
      ],
      "execution_count": 1,
      "outputs": [
        {
          "output_type": "stream",
          "text": [
            "Installing package into ‘/usr/local/lib/R/site-library’\n",
            "(as ‘lib’ is unspecified)\n",
            "\n",
            "Loading required package: Matrix\n",
            "\n",
            "\n",
            "Attaching package: ‘arules’\n",
            "\n",
            "\n",
            "The following objects are masked from ‘package:base’:\n",
            "\n",
            "    abbreviate, write\n",
            "\n",
            "\n"
          ],
          "name": "stderr"
        }
      ]
    },
    {
      "cell_type": "code",
      "metadata": {
        "colab": {
          "base_uri": "https://localhost:8080/",
          "height": 108
        },
        "id": "gMcWIlWhfzym",
        "outputId": "2e4f9177-954a-440a-b50f-450867cfe6fd"
      },
      "source": [
        "#Loading the dataset\n",
        "#\n",
        "\n",
        "Sales <- read.transactions('/content/Supermarket_Sales_Dataset II.csv',sep=',')\n",
        "Sales"
      ],
      "execution_count": 36,
      "outputs": [
        {
          "output_type": "stream",
          "text": [
            "Warning message in asMethod(object):\n",
            "“removing duplicated items in transactions”\n"
          ],
          "name": "stderr"
        },
        {
          "output_type": "display_data",
          "data": {
            "text/plain": [
              "transactions in sparse format with\n",
              " 7501 transactions (rows) and\n",
              " 119 items (columns)"
            ]
          },
          "metadata": {
            "tags": []
          }
        }
      ]
    },
    {
      "cell_type": "code",
      "metadata": {
        "colab": {
          "base_uri": "https://localhost:8080/",
          "height": 35
        },
        "id": "AHCjIFHHkGwZ",
        "outputId": "7dd869f2-1f87-415a-9f4e-611f09bec027"
      },
      "source": [
        "#Checking the class of transactions\n",
        "\n",
        "class(Sales)"
      ],
      "execution_count": 37,
      "outputs": [
        {
          "output_type": "display_data",
          "data": {
            "text/plain": [
              "[1] \"transactions\"\n",
              "attr(,\"package\")\n",
              "[1] \"arules\""
            ],
            "text/latex": "'transactions'",
            "text/markdown": "'transactions'",
            "text/html": [
              "'transactions'"
            ]
          },
          "metadata": {
            "tags": []
          }
        }
      ]
    },
    {
      "cell_type": "code",
      "metadata": {
        "colab": {
          "base_uri": "https://localhost:8080/",
          "height": 395
        },
        "id": "5pL4rIjYkswJ",
        "outputId": "f29fe282-8301-46a8-a457-18d179904208"
      },
      "source": [
        "#Previewing the items that make up our dataset\n",
        "# \n",
        "\n",
        "items <- as.data.frame(itemLabels(Sales))\n",
        "colnames(items) <- 'Items' \n",
        "head(items, 10)    "
      ],
      "execution_count": 38,
      "outputs": [
        {
          "output_type": "display_data",
          "data": {
            "text/plain": [
              "   Items            \n",
              "1  almonds          \n",
              "2  antioxydant juice\n",
              "3  asparagus        \n",
              "4  avocado          \n",
              "5  babies food      \n",
              "6  bacon            \n",
              "7  barbecue sauce   \n",
              "8  black tea        \n",
              "9  blueberries      \n",
              "10 body spray       "
            ],
            "text/latex": "A data.frame: 10 × 1\n\\begin{tabular}{r|l}\n  & Items\\\\\n  & <chr>\\\\\n\\hline\n\t1 & almonds          \\\\\n\t2 & antioxydant juice\\\\\n\t3 & asparagus        \\\\\n\t4 & avocado          \\\\\n\t5 & babies food      \\\\\n\t6 & bacon            \\\\\n\t7 & barbecue sauce   \\\\\n\t8 & black tea        \\\\\n\t9 & blueberries      \\\\\n\t10 & body spray       \\\\\n\\end{tabular}\n",
            "text/markdown": "\nA data.frame: 10 × 1\n\n| <!--/--> | Items &lt;chr&gt; |\n|---|---|\n| 1 | almonds           |\n| 2 | antioxydant juice |\n| 3 | asparagus         |\n| 4 | avocado           |\n| 5 | babies food       |\n| 6 | bacon             |\n| 7 | barbecue sauce    |\n| 8 | black tea         |\n| 9 | blueberries       |\n| 10 | body spray        |\n\n",
            "text/html": [
              "<table class=\"dataframe\">\n",
              "<caption>A data.frame: 10 × 1</caption>\n",
              "<thead>\n",
              "\t<tr><th></th><th scope=col>Items</th></tr>\n",
              "\t<tr><th></th><th scope=col>&lt;chr&gt;</th></tr>\n",
              "</thead>\n",
              "<tbody>\n",
              "\t<tr><th scope=row>1</th><td>almonds          </td></tr>\n",
              "\t<tr><th scope=row>2</th><td>antioxydant juice</td></tr>\n",
              "\t<tr><th scope=row>3</th><td>asparagus        </td></tr>\n",
              "\t<tr><th scope=row>4</th><td>avocado          </td></tr>\n",
              "\t<tr><th scope=row>5</th><td>babies food      </td></tr>\n",
              "\t<tr><th scope=row>6</th><td>bacon            </td></tr>\n",
              "\t<tr><th scope=row>7</th><td>barbecue sauce   </td></tr>\n",
              "\t<tr><th scope=row>8</th><td>black tea        </td></tr>\n",
              "\t<tr><th scope=row>9</th><td>blueberries      </td></tr>\n",
              "\t<tr><th scope=row>10</th><td>body spray       </td></tr>\n",
              "</tbody>\n",
              "</table>\n"
            ]
          },
          "metadata": {
            "tags": []
          }
        }
      ]
    },
    {
      "cell_type": "markdown",
      "metadata": {
        "id": "jSIuf-86v0eH"
      },
      "source": [
        "#3. Exploratory Data Analysis"
      ]
    },
    {
      "cell_type": "code",
      "metadata": {
        "colab": {
          "base_uri": "https://localhost:8080/",
          "height": 472
        },
        "id": "5FEcj1MFlGZu",
        "outputId": "61c836c1-a73c-4d67-b235-34f81e7be3b3"
      },
      "source": [
        "#Generating a summary of the transaction dataset\n",
        "\n",
        "summary(Sales)\n",
        "\n",
        "#We see the most frequent items are: mineral water,eggs,spaghetti and french fries\n",
        "#and the number of items purchased in each transaction "
      ],
      "execution_count": 40,
      "outputs": [
        {
          "output_type": "display_data",
          "data": {
            "text/plain": [
              "transactions as itemMatrix in sparse format with\n",
              " 7501 rows (elements/itemsets/transactions) and\n",
              " 119 columns (items) and a density of 0.03288973 \n",
              "\n",
              "most frequent items:\n",
              "mineral water          eggs     spaghetti  french fries     chocolate \n",
              "         1788          1348          1306          1282          1229 \n",
              "      (Other) \n",
              "        22405 \n",
              "\n",
              "element (itemset/transaction) length distribution:\n",
              "sizes\n",
              "   1    2    3    4    5    6    7    8    9   10   11   12   13   14   15   16 \n",
              "1754 1358 1044  816  667  493  391  324  259  139  102   67   40   22   17    4 \n",
              "  18   19   20 \n",
              "   1    2    1 \n",
              "\n",
              "   Min. 1st Qu.  Median    Mean 3rd Qu.    Max. \n",
              "  1.000   2.000   3.000   3.914   5.000  20.000 \n",
              "\n",
              "includes extended item information - examples:\n",
              "             labels\n",
              "1           almonds\n",
              "2 antioxydant juice\n",
              "3         asparagus"
            ]
          },
          "metadata": {
            "tags": []
          }
        }
      ]
    },
    {
      "cell_type": "code",
      "metadata": {
        "colab": {
          "base_uri": "https://localhost:8080/",
          "height": 52
        },
        "id": "KMrWJSzQm0T5",
        "outputId": "70bc6755-d3f1-41cc-ac90-2a0f7e8dbab4"
      },
      "source": [
        "# Exploring the frequency of some articles \n",
        "# i.e. transacations ranging from 8 to 10 and performing \n",
        "# some operation in percentage terms of the total transactions \n",
        "\n",
        "itemFrequency(Sales[, 8:10],type = \"absolute\")\n",
        "round(itemFrequency(Sales[, 8:10],type = \"relative\")*100,2)"
      ],
      "execution_count": 41,
      "outputs": [
        {
          "output_type": "display_data",
          "data": {
            "text/plain": [
              "  black tea blueberries  body spray \n",
              "        107          69          86 "
            ],
            "text/latex": "\\begin{description*}\n\\item[black tea] 107\n\\item[blueberries] 69\n\\item[body spray] 86\n\\end{description*}\n",
            "text/markdown": "black tea\n:   107blueberries\n:   69body spray\n:   86\n\n",
            "text/html": [
              "<style>\n",
              ".dl-inline {width: auto; margin:0; padding: 0}\n",
              ".dl-inline>dt, .dl-inline>dd {float: none; width: auto; display: inline-block}\n",
              ".dl-inline>dt::after {content: \":\\0020\"; padding-right: .5ex}\n",
              ".dl-inline>dt:not(:first-of-type) {padding-left: .5ex}\n",
              "</style><dl class=dl-inline><dt>black tea</dt><dd>107</dd><dt>blueberries</dt><dd>69</dd><dt>body spray</dt><dd>86</dd></dl>\n"
            ]
          },
          "metadata": {
            "tags": []
          }
        },
        {
          "output_type": "display_data",
          "data": {
            "text/plain": [
              "  black tea blueberries  body spray \n",
              "       1.43        0.92        1.15 "
            ],
            "text/latex": "\\begin{description*}\n\\item[black tea] 1.43\n\\item[blueberries] 0.92\n\\item[body spray] 1.15\n\\end{description*}\n",
            "text/markdown": "black tea\n:   1.43blueberries\n:   0.92body spray\n:   1.15\n\n",
            "text/html": [
              "<style>\n",
              ".dl-inline {width: auto; margin:0; padding: 0}\n",
              ".dl-inline>dt, .dl-inline>dd {float: none; width: auto; display: inline-block}\n",
              ".dl-inline>dt::after {content: \":\\0020\"; padding-right: .5ex}\n",
              ".dl-inline>dt:not(:first-of-type) {padding-left: .5ex}\n",
              "</style><dl class=dl-inline><dt>black tea</dt><dd>1.43</dd><dt>blueberries</dt><dd>0.92</dd><dt>body spray</dt><dd>1.15</dd></dl>\n"
            ]
          },
          "metadata": {
            "tags": []
          }
        }
      ]
    },
    {
      "cell_type": "code",
      "metadata": {
        "colab": {
          "base_uri": "https://localhost:8080/",
          "height": 437
        },
        "id": "fVpfNnY_oLSW",
        "outputId": "01a0d59d-162b-4e08-bbae-9cd0e88ebe0d"
      },
      "source": [
        "#Displaying top 10 most common items in the transactions dataset \n",
        "# and the items whose relative importance is at least 10%\n",
        "# \n",
        "par(mfrow = c(1, 2))\n",
        "\n",
        "\n",
        "# plot the frequency of items\n",
        "itemFrequencyPlot(Sales, topN = 10,col=\"darkgreen\",main='Top 10 items')\n",
        "itemFrequencyPlot(Sales, support = 0.1,col=\"darkred\")\n",
        "\n"
      ],
      "execution_count": 43,
      "outputs": [
        {
          "output_type": "display_data",
          "data": {
            "image/png": "[encoded data removed]",
            "text/plain": [
              "Plot with title “Top 10 items”"
            ]
          },
          "metadata": {
            "tags": [],
            "image/png": {
              "width": 420,
              "height": 420
            }
          }
        }
      ]
    },
    {
      "cell_type": "markdown",
      "metadata": {
        "id": "nriXf0wbv7rQ"
      },
      "source": [
        "#4. Building Association Rules Model"
      ]
    },
    {
      "cell_type": "code",
      "metadata": {
        "colab": {
          "base_uri": "https://localhost:8080/",
          "height": 417
        },
        "id": "vMXgNpK-oX4r",
        "outputId": "ee0937ae-af19-4ae7-ede0-c59dd51185ee"
      },
      "source": [
        "# Building a model based on association rules \n",
        "# using the apriori function\n",
        "#\n",
        "# We use Min Support as 0.001 and confidence as 0.8\n",
        "# \n",
        "\n",
        "rules <- apriori (Sales, parameter = list(supp = 0.001, conf = 0.8))\n",
        "rules\n"
      ],
      "execution_count": 44,
      "outputs": [
        {
          "output_type": "stream",
          "text": [
            "Apriori\n",
            "\n",
            "Parameter specification:\n",
            " confidence minval smax arem  aval originalSupport maxtime support minlen\n",
            "        0.8    0.1    1 none FALSE            TRUE       5   0.001      1\n",
            " maxlen target  ext\n",
            "     10  rules TRUE\n",
            "\n",
            "Algorithmic control:\n",
            " filter tree heap memopt load sort verbose\n",
            "    0.1 TRUE TRUE  FALSE TRUE    2    TRUE\n",
            "\n",
            "Absolute minimum support count: 7 \n",
            "\n",
            "set item appearances ...[0 item(s)] done [0.00s].\n",
            "set transactions ...[119 item(s), 7501 transaction(s)] done [0.00s].\n",
            "sorting and recoding items ... [116 item(s)] done [0.00s].\n",
            "creating transaction tree ... done [0.00s].\n",
            "checking subsets of size 1 2 3 4 5 6 done [0.01s].\n",
            "writing ... [74 rule(s)] done [0.00s].\n",
            "creating S4 object  ... done [0.00s].\n"
          ],
          "name": "stdout"
        },
        {
          "output_type": "display_data",
          "data": {
            "text/plain": [
              "set of 74 rules "
            ]
          },
          "metadata": {
            "tags": []
          }
        }
      ]
    },
    {
      "cell_type": "code",
      "metadata": {
        "colab": {
          "base_uri": "https://localhost:8080/",
          "height": 417
        },
        "id": "kR8bqVPkpd-G",
        "outputId": "30236fe8-e89d-4cce-cd2f-7d2a5955dd18"
      },
      "source": [
        "# Building a apriori model with Min Support as 0.002 and confidence as 0.8.\n",
        "rules2 <- apriori (Sales,parameter = list(supp = 0.002, conf = 0.8))\n",
        "rules2 "
      ],
      "execution_count": 45,
      "outputs": [
        {
          "output_type": "stream",
          "text": [
            "Apriori\n",
            "\n",
            "Parameter specification:\n",
            " confidence minval smax arem  aval originalSupport maxtime support minlen\n",
            "        0.8    0.1    1 none FALSE            TRUE       5   0.002      1\n",
            " maxlen target  ext\n",
            "     10  rules TRUE\n",
            "\n",
            "Algorithmic control:\n",
            " filter tree heap memopt load sort verbose\n",
            "    0.1 TRUE TRUE  FALSE TRUE    2    TRUE\n",
            "\n",
            "Absolute minimum support count: 15 \n",
            "\n",
            "set item appearances ...[0 item(s)] done [0.00s].\n",
            "set transactions ...[119 item(s), 7501 transaction(s)] done [0.00s].\n",
            "sorting and recoding items ... [115 item(s)] done [0.00s].\n",
            "creating transaction tree ... done [0.00s].\n",
            "checking subsets of size 1 2 3 4 5 done [0.00s].\n",
            "writing ... [2 rule(s)] done [0.00s].\n",
            "creating S4 object  ... done [0.00s].\n"
          ],
          "name": "stdout"
        },
        {
          "output_type": "display_data",
          "data": {
            "text/plain": [
              "set of 2 rules "
            ]
          },
          "metadata": {
            "tags": []
          }
        }
      ]
    },
    {
      "cell_type": "code",
      "metadata": {
        "colab": {
          "base_uri": "https://localhost:8080/",
          "height": 417
        },
        "id": "wow960ZApkdr",
        "outputId": "61a24957-559d-45ec-90b7-dfb4fc4f4cc3"
      },
      "source": [
        "#Building apriori model with Min Support as 0.002 and confidence as 0.6\n",
        "\n",
        "rules3 <- apriori (Sales, parameter = list(supp = 0.001, conf = 0.6))\n",
        "rules3 \n"
      ],
      "execution_count": 46,
      "outputs": [
        {
          "output_type": "stream",
          "text": [
            "Apriori\n",
            "\n",
            "Parameter specification:\n",
            " confidence minval smax arem  aval originalSupport maxtime support minlen\n",
            "        0.6    0.1    1 none FALSE            TRUE       5   0.001      1\n",
            " maxlen target  ext\n",
            "     10  rules TRUE\n",
            "\n",
            "Algorithmic control:\n",
            " filter tree heap memopt load sort verbose\n",
            "    0.1 TRUE TRUE  FALSE TRUE    2    TRUE\n",
            "\n",
            "Absolute minimum support count: 7 \n",
            "\n",
            "set item appearances ...[0 item(s)] done [0.00s].\n",
            "set transactions ...[119 item(s), 7501 transaction(s)] done [0.00s].\n",
            "sorting and recoding items ... [116 item(s)] done [0.00s].\n",
            "creating transaction tree ... done [0.00s].\n",
            "checking subsets of size 1 2 3 4 5 6 done [0.01s].\n",
            "writing ... [545 rule(s)] done [0.00s].\n",
            "creating S4 object  ... done [0.00s].\n"
          ],
          "name": "stdout"
        },
        {
          "output_type": "display_data",
          "data": {
            "text/plain": [
              "set of 545 rules "
            ]
          },
          "metadata": {
            "tags": []
          }
        }
      ]
    },
    {
      "cell_type": "markdown",
      "metadata": {
        "id": "lH4XKLJUqBz-"
      },
      "source": [
        "In our first example, we increased the minimum support of 0.001 to 0.002 and model rules went from 74 to only 2. This would lead us to understand that using a high level of support can make the model lose interesting rules. In the second example, we decreased the minimum confidence level to 0.6 and the number of model rules went from 74 to 545. This would mean that using a low confidence level increases the number of rules to quite an extent and many will not be useful."
      ]
    },
    {
      "cell_type": "code",
      "metadata": {
        "colab": {
          "base_uri": "https://localhost:8080/",
          "height": 526
        },
        "id": "D0jad7_vqA7v",
        "outputId": "07582b6b-844c-4588-985a-d5b23c909807"
      },
      "source": [
        "# We can perform an exploration of our model \n",
        "# through the use of the summary function as shown\n",
        "#\n",
        " \n",
        "summary(rules)"
      ],
      "execution_count": 47,
      "outputs": [
        {
          "output_type": "display_data",
          "data": {
            "text/plain": [
              "set of 74 rules\n",
              "\n",
              "rule length distribution (lhs + rhs):sizes\n",
              " 3  4  5  6 \n",
              "15 42 16  1 \n",
              "\n",
              "   Min. 1st Qu.  Median    Mean 3rd Qu.    Max. \n",
              "  3.000   4.000   4.000   4.041   4.000   6.000 \n",
              "\n",
              "summary of quality measures:\n",
              "    support           confidence        coverage             lift       \n",
              " Min.   :0.001067   Min.   :0.8000   Min.   :0.001067   Min.   : 3.356  \n",
              " 1st Qu.:0.001067   1st Qu.:0.8000   1st Qu.:0.001333   1st Qu.: 3.432  \n",
              " Median :0.001133   Median :0.8333   Median :0.001333   Median : 3.795  \n",
              " Mean   :0.001256   Mean   :0.8504   Mean   :0.001479   Mean   : 4.823  \n",
              " 3rd Qu.:0.001333   3rd Qu.:0.8889   3rd Qu.:0.001600   3rd Qu.: 4.877  \n",
              " Max.   :0.002533   Max.   :1.0000   Max.   :0.002666   Max.   :12.722  \n",
              "     count       \n",
              " Min.   : 8.000  \n",
              " 1st Qu.: 8.000  \n",
              " Median : 8.500  \n",
              " Mean   : 9.419  \n",
              " 3rd Qu.:10.000  \n",
              " Max.   :19.000  \n",
              "\n",
              "mining info:\n",
              "  data ntransactions support confidence\n",
              " Sales          7501   0.001        0.8"
            ]
          },
          "metadata": {
            "tags": []
          }
        }
      ]
    },
    {
      "cell_type": "markdown",
      "metadata": {
        "id": "9I0zpxPtsCYn"
      },
      "source": [
        "Upon running the above summary code, the function would give us information about the model i.e. the size of rules, depending on the items that contain these rules. In our above case, most rules have 2 and 3 items though some rules do have upto 4. More statistical information such as support, lift and confidence is also provided.\n"
      ]
    },
    {
      "cell_type": "code",
      "metadata": {
        "colab": {
          "base_uri": "https://localhost:8080/"
        },
        "id": "bxf9575csPEZ",
        "outputId": "4451e3d7-4004-4d97-e3b8-ed6e62939f8f"
      },
      "source": [
        "#Observing rules built in our model i.e. first 5 model rules\n",
        "# \n",
        "inspect(rules[1:5])\n",
        "\n",
        "\n",
        "# Interpretation of the first rule:\n",
        "# ---\n",
        "# If someone buys frozen smoothie and spinach, they are 89% likely to buy mineral water too\n",
        "#If someone  buys bacon and pancakes, they are 81% likely to buy spaghetti too, etc.\n",
        "# ---"
      ],
      "execution_count": 48,
      "outputs": [
        {
          "output_type": "stream",
          "text": [
            "    lhs                             rhs             support     confidence\n",
            "[1] {frozen smoothie,spinach}    => {mineral water} 0.001066524 0.8888889 \n",
            "[2] {bacon,pancakes}             => {spaghetti}     0.001733102 0.8125000 \n",
            "[3] {nonfat milk,turkey}         => {mineral water} 0.001199840 0.8181818 \n",
            "[4] {ground beef,nonfat milk}    => {mineral water} 0.001599787 0.8571429 \n",
            "[5] {mushroom cream sauce,pasta} => {escalope}      0.002532996 0.9500000 \n",
            "    coverage    lift      count\n",
            "[1] 0.001199840  3.729058  8   \n",
            "[2] 0.002133049  4.666587 13   \n",
            "[3] 0.001466471  3.432428  9   \n",
            "[4] 0.001866418  3.595877 12   \n",
            "[5] 0.002666311 11.976387 19   \n"
          ],
          "name": "stdout"
        }
      ]
    },
    {
      "cell_type": "code",
      "metadata": {
        "colab": {
          "base_uri": "https://localhost:8080/"
        },
        "id": "LyRucXUJtkJ0",
        "outputId": "7c2fa1d7-b068-4472-e9c1-cc8677c35e95"
      },
      "source": [
        "#Ordering these rules by a criteria such as the level of confidence\n",
        "#then looking at the first five rules.\n",
        "# \n",
        "\n",
        "rules<-sort(rules, by=\"confidence\", decreasing=TRUE)\n",
        "inspect(rules[1:5])\n",
        "\n",
        "# Interpretation\n",
        "# ---\n",
        "# The top 4 rules indicate 100% confidence that the associated items are bought by someone\n",
        "# \n",
        "# ---"
      ],
      "execution_count": 49,
      "outputs": [
        {
          "output_type": "stream",
          "text": [
            "    lhs                                          rhs             support    \n",
            "[1] {french fries,mushroom cream sauce,pasta} => {escalope}      0.001066524\n",
            "[2] {ground beef,light cream,olive oil}       => {mineral water} 0.001199840\n",
            "[3] {cake,meatballs,mineral water}            => {milk}          0.001066524\n",
            "[4] {cake,olive oil,shrimp}                   => {mineral water} 0.001199840\n",
            "[5] {mushroom cream sauce,pasta}              => {escalope}      0.002532996\n",
            "    confidence coverage    lift      count\n",
            "[1] 1.00       0.001066524 12.606723  8   \n",
            "[2] 1.00       0.001199840  4.195190  9   \n",
            "[3] 1.00       0.001066524  7.717078  8   \n",
            "[4] 1.00       0.001199840  4.195190  9   \n",
            "[5] 0.95       0.002666311 11.976387 19   \n"
          ],
          "name": "stdout"
        }
      ]
    },
    {
      "cell_type": "code",
      "metadata": {
        "colab": {
          "base_uri": "https://localhost:8080/"
        },
        "id": "LpFKARlkuDCf",
        "outputId": "4c40a143-93d1-461b-b5da-daba0ea53c35"
      },
      "source": [
        "#If we're interested in making a promotion relating to the sale of milk, \n",
        "#we could create a subset of rules concerning these products \n",
        "#---\n",
        "#This would tell us the items that the customers bought before purchasing milk\n",
        "# ---\n",
        "# \n",
        "\n",
        "milk <- subset(rules, subset = rhs %pin% \"milk\")\n",
        " \n",
        "# Then order by confidence\n",
        "milk <- sort(milk, by=\"confidence\", decreasing=TRUE)\n",
        "inspect(milk[1:5])\n",
        "\n",
        "#We can be able to see the items that were bought before perchasing milk\n",
        "#At a confidence of 100%. Such are cake,meatballs and mineral water."
      ],
      "execution_count": 51,
      "outputs": [
        {
          "output_type": "stream",
          "text": [
            "    lhs                                  rhs    support     confidence\n",
            "[1] {cake,meatballs,mineral water}    => {milk} 0.001066524 1.0000000 \n",
            "[2] {escalope,hot dogs,mineral water} => {milk} 0.001066524 0.8888889 \n",
            "[3] {meatballs,whole wheat pasta}     => {milk} 0.001333156 0.8333333 \n",
            "[4] {black tea,frozen smoothie}       => {milk} 0.001199840 0.8181818 \n",
            "[5] {burgers,ground beef,olive oil}   => {milk} 0.001066524 0.8000000 \n",
            "    coverage    lift     count\n",
            "[1] 0.001066524 7.717078  8   \n",
            "[2] 0.001199840 6.859625  8   \n",
            "[3] 0.001599787 6.430898 10   \n",
            "[4] 0.001466471 6.313973  9   \n",
            "[5] 0.001333156 6.173663  8   \n"
          ],
          "name": "stdout"
        }
      ]
    },
    {
      "cell_type": "code",
      "metadata": {
        "colab": {
          "base_uri": "https://localhost:8080/"
        },
        "id": "Mv0VDaoFummE",
        "outputId": "ef958d3b-6031-4229-a0a4-270ba53b23b0"
      },
      "source": [
        "#What if we wanted to determine items that customers might buy \n",
        "#who have previously bought milk?\n",
        "# ---\n",
        "#\n",
        "# Subset the rules\n",
        "milk <- subset(rules, subset = lhs %pin% \"milk\")\n",
        "\n",
        "# Order by confidence\n",
        "milk <- sort(milk, by=\"confidence\", decreasing=TRUE)\n",
        "\n",
        "# inspect top 5\n",
        "inspect(milk[15:19])\n",
        "\n",
        "\n",
        "#We see mineral water, spaghetti and french fries in the list"
      ],
      "execution_count": 52,
      "outputs": [
        {
          "output_type": "stream",
          "text": [
            "    lhs                                rhs             support     confidence\n",
            "[1] {chocolate,hot dogs,milk}       => {mineral water} 0.001066524 0.8       \n",
            "[2] {avocado,burgers,milk}          => {spaghetti}     0.001066524 0.8       \n",
            "[3] {cookies,green tea,milk}        => {french fries}  0.001066524 0.8       \n",
            "[4] {cake,eggs,milk,turkey}         => {mineral water} 0.001066524 0.8       \n",
            "[5] {chocolate,eggs,milk,olive oil} => {mineral water} 0.001066524 0.8       \n",
            "    coverage    lift     count\n",
            "[1] 0.001333156 3.356152 8    \n",
            "[2] 0.001333156 4.594793 8    \n",
            "[3] 0.001333156 4.680811 8    \n",
            "[4] 0.001333156 3.356152 8    \n",
            "[5] 0.001333156 3.356152 8    \n"
          ],
          "name": "stdout"
        }
      ]
    },
    {
      "cell_type": "markdown",
      "metadata": {
        "id": "4iaFwkxGwHvB"
      },
      "source": [
        "#5. Conclusion on association Rules"
      ]
    },
    {
      "cell_type": "markdown",
      "metadata": {
        "id": "YgxwiNAZwgcN"
      },
      "source": [
        "We were able to build association rules model that allows the identification of relationships between variables in the dataset.Some of the things we are able to tell from one of the rules is that if someone buys frozen smoothie and spinach, they are 89% likely to buy mineral water too. Using milk as example we can see that the items that were bought before perchasing milk are cake,meatballs and mineral water at a confidence of 100%. \n",
        "\n",
        "Most important while performing Exploratory Data Analysis we can see that the most frequent bought items are: mineral water, eggs, spaghetti, french fries and chocolate."
      ]
    }
  ]
}